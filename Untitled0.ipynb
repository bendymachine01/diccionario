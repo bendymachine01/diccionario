{
  "nbformat": 4,
  "nbformat_minor": 0,
  "metadata": {
    "colab": {
      "provenance": [],
      "authorship_tag": "ABX9TyOCaoh+tEgAGg8qQuhk0ni/",
      "include_colab_link": true
    },
    "kernelspec": {
      "name": "python3",
      "display_name": "Python 3"
    },
    "language_info": {
      "name": "python"
    }
  },
  "cells": [
    {
      "cell_type": "markdown",
      "metadata": {
        "id": "view-in-github",
        "colab_type": "text"
      },
      "source": [
        "<a href=\"https://colab.research.google.com/github/bendymachine01/diccionario/blob/main/Untitled0.ipynb\" target=\"_parent\"><img src=\"https://colab.research.google.com/assets/colab-badge.svg\" alt=\"Open In Colab\"/></a>"
      ]
    },
    {
      "cell_type": "markdown",
      "source": [
        "# Diccionarios\n",
        "\n",
        "- son dotos estructurados, es decir hace referancia a una coleccion de datos\n",
        "-son suna coleccion desordenada de pares de datos de la forma clave:valor, conocidos como elementos o items\n",
        "- son mutables, por lo tanto una vez definido un diccionario se e pueden agregar nuevos elementos,, modificar  eliminar algunos de los qe ya tiene\n",
        "- tambiense les conoce como mapa de hash o arreglos asociatvos\n",
        "- en oython los diccionarios son de tipo dict yse utila la siqguientes sintaxis para crear un variable de este tipo\n",
        "\n",
        "`nombre_dict = {clave1:valor1,clave2:valor2,...}`\n",
        "- cada item o elemnto tiene la forma clave:valor\n",
        "- en cada item hay una clave y uno o mas valores. si se deconoce el valor, se puede llamar `none`\n",
        "- los elementos del diccionario se indexan por la clave\n",
        "- las claves solo pueden ser datos inmutables\n",
        "- las claves o se pueden repetirse dentro de un diccionario"
      ],
      "metadata": {
        "id": "Gd-PaPCgph-E"
      }
    },
    {
      "cell_type": "code",
      "source": [
        "# diccioario con clave tipo cadena\n",
        "\n",
        "num_meses ={'Enero:1,Febrero:2,Marzo:3,Abril:4,Mayo:5,Junio:6,Julio:7,Agosto:8,Septiembre:9,Octubre:10,Noviembre:11,Diciembre:12'}\n",
        "print(num_meses)\n",
        "\n",
        "nombre_meses = {1:'Enero',2:'Febrero',3:'Marzo',4:'Abril',5:'Mayo',6:'Junio',7:'Julio',8:'Agosto',9:'Septiembre',10:'Octubre',11:'Noviembre',12:'Diciembre'}\n",
        "print(nombre_meses)\n",
        "\n",
        "frutas = {'manzana':34, 'pera':45, 'uva':23}\n",
        "print(frutas)\n",
        "\n",
        "# agregar elementos\n",
        "frutas['cereza'] = 90\n",
        "print(frutas)\n",
        "\n",
        "# modificar un elemento\n",
        "frutas['cererza'] = 100\n",
        "print(frutas)\n",
        "\n",
        "# eliminar un elemento\n",
        "del frutas['cereza']\n",
        "print(frutas)\n",
        "\n",
        "# consutar valor de una clave\n",
        "ºprint(frutas['el valor de manzana es: ',frutas 'manzana' ])"
      ],
      "metadata": {
        "id": "8WlEZzqUrwe-"
      },
      "execution_count": null,
      "outputs": []
    }
  ]
}